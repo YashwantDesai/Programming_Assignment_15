{
 "cells": [
  {
   "cell_type": "markdown",
   "id": "0c27a818",
   "metadata": {},
   "source": [
    "# Yashwant Desai –  Programming_Assingment 15"
   ]
  },
  {
   "cell_type": "markdown",
   "id": "f91ef2d3",
   "metadata": {},
   "source": [
    "# Question 1:\n",
    "Please write a program using generator to print the numbers which can be divisible by 5 and 7 between 0 and n in comma separated form while n is input by console.\n",
    "Example:\n",
    "If the following n is given as input to the program:\n",
    "100\n",
    "Then, the output of the program should be:\n",
    "0,35,70"
   ]
  },
  {
   "cell_type": "code",
   "execution_count": 1,
   "id": "b7dce22d",
   "metadata": {},
   "outputs": [
    {
     "name": "stdout",
     "output_type": "stream",
     "text": [
      "0\n",
      "35\n",
      "70\n"
     ]
    }
   ],
   "source": [
    "class DivisibleBy5n7:\n",
    "    def __init__(self, n):\n",
    "        self.n = n\n",
    "    def generate(self):\n",
    "        for num in range(self.n + 1):\n",
    "            if num % 5 == 0 and num % 7 == 0 :\n",
    "                yield num\n",
    "n = 100\n",
    "divisible_by_7_gen = DivisibleBy5n7(n)\n",
    "for num in divisible_by_7_gen.generate():\n",
    "    print(num)"
   ]
  },
  {
   "cell_type": "markdown",
   "id": "152b7fd1",
   "metadata": {},
   "source": [
    "# Question 2:\n",
    "Please write a program using generator to print the even numbers between 0 and n in comma separated form while n is input by console.\n",
    "Example:\n",
    "If the following n is given as input to the program:\n",
    "10\n",
    "Then, the output of the program should be:\n",
    "0,2,4,6,8,10"
   ]
  },
  {
   "cell_type": "code",
   "execution_count": 2,
   "id": "779547cb",
   "metadata": {},
   "outputs": [
    {
     "name": "stdout",
     "output_type": "stream",
     "text": [
      "0\n",
      "2\n",
      "4\n",
      "6\n",
      "8\n",
      "10\n"
     ]
    }
   ],
   "source": [
    "class even_numbers:\n",
    "    def __init__(self, n):\n",
    "        self.n = n\n",
    "    def generate(self):\n",
    "        for num in range(self.n + 1):\n",
    "            if num % 2 == 0 :\n",
    "                yield num\n",
    "n = 10\n",
    "result = even_numbers(n)\n",
    "for num in result.generate():\n",
    "    print(num)"
   ]
  },
  {
   "cell_type": "markdown",
   "id": "56e37aac",
   "metadata": {},
   "source": [
    "# Question 3:\n",
    "The Fibonacci Sequence is computed based on the following formula:\n",
    "f(n)=0 if n=0\n",
    "f(n)=1 if n=1\n",
    "f(n)=f(n-1)+f(n-2) if n>1\n",
    "Please write a program using list comprehension to print the Fibonacci Sequence in comma separated form with a given n input by console.\n",
    "Example:\n",
    "If the following n is given as input to the program:\n",
    "7\n",
    "Then, the output of the program should be:\n",
    "0,1,1,2,3,5,8,13"
   ]
  },
  {
   "cell_type": "code",
   "execution_count": 3,
   "id": "ef29610f",
   "metadata": {},
   "outputs": [
    {
     "name": "stdout",
     "output_type": "stream",
     "text": [
      "0,1,1,2,3,5,8,13\n"
     ]
    }
   ],
   "source": [
    "def fibonacci_sequence(n):\n",
    "    if n == 0:\n",
    "        return []\n",
    "    elif n == 1:\n",
    "        return [0]\n",
    "    elif n == 2:\n",
    "        return [0,1]\n",
    "    else:\n",
    "        fi_data = [0, 1]\n",
    "        [fi_data.append(fi_data[-1] + fi_data[-2]) for _ in range(n - 1)]\n",
    "        return fi_data\n",
    "n = int(7)\n",
    "#n = int(input(\"Enter a number (n): \"))\n",
    "result = fibonacci_sequence(n)\n",
    "print(\",\".join(str(num) for num in result))"
   ]
  },
  {
   "cell_type": "markdown",
   "id": "d638c89d",
   "metadata": {},
   "source": [
    "# Question 4:\n",
    "Assuming that we have some email addresses in the \"username@companyname.com\" format, please write program to print the user name of a given email address. Both user names and company names are composed of letters only.\n",
    "Example:\n",
    "If the following email address is given as input to the program:\n",
    "john@google.com\n",
    "Then, the output of the program should be:\n",
    "john"
   ]
  },
  {
   "cell_type": "code",
   "execution_count": 4,
   "id": "a5d57f66",
   "metadata": {},
   "outputs": [
    {
     "name": "stdout",
     "output_type": "stream",
     "text": [
      "email id: john@google.com\n",
      "name: john\n"
     ]
    }
   ],
   "source": [
    "def find_name_from_email(user_input):\n",
    "    name, _ = user_input.split('@')\n",
    "    return name\n",
    "email_data = (\"john@google.com\")\n",
    "#email_data = input(\"enter email ids: \")\n",
    "result = find_name_from_email(email_data)\n",
    "print(f\"email id: {email_data}\")\n",
    "print(f\"name: {result}\")"
   ]
  },
  {
   "cell_type": "markdown",
   "id": "b976c34a",
   "metadata": {},
   "source": [
    "# Question 5:\n",
    "Define a class named Shape and its subclass Square. The Square class has an init function which takes a length as argument. Both classes have a area function which can print the area of the shape where Shape's area is 0 by default."
   ]
  },
  {
   "cell_type": "code",
   "execution_count": 5,
   "id": "f3711ba0",
   "metadata": {},
   "outputs": [
    {
     "name": "stdout",
     "output_type": "stream",
     "text": [
      "Area of the shape: 0\n",
      "Area of the square: 16\n"
     ]
    }
   ],
   "source": [
    "class Shape:\n",
    "    def area(self):\n",
    "        return 0\n",
    "class Square(Shape):\n",
    "    def __init__(self, length):\n",
    "        self.length = length\n",
    "    def area(self):\n",
    "        return self.length ** 2\n",
    "shape = Shape()\n",
    "square = Square(4)\n",
    "print(\"Area of the shape:\", shape.area())\n",
    "print(\"Area of the square:\", square.area())"
   ]
  },
  {
   "cell_type": "markdown",
   "id": "a79c0885",
   "metadata": {},
   "source": [
    "# Done Regards,Yashwant"
   ]
  }
 ],
 "metadata": {
  "kernelspec": {
   "display_name": "Python 3 (ipykernel)",
   "language": "python",
   "name": "python3"
  },
  "language_info": {
   "codemirror_mode": {
    "name": "ipython",
    "version": 3
   },
   "file_extension": ".py",
   "mimetype": "text/x-python",
   "name": "python",
   "nbconvert_exporter": "python",
   "pygments_lexer": "ipython3",
   "version": "3.9.13"
  }
 },
 "nbformat": 4,
 "nbformat_minor": 5
}
